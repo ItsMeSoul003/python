{
 "cells": [
  {
   "cell_type": "code",
   "execution_count": 2,
   "id": "de88d97f",
   "metadata": {},
   "outputs": [
    {
     "name": "stdout",
     "output_type": "stream",
     "text": [
      "the no are  1\n",
      "the no are  2\n",
      "the no are  3\n",
      "the no are  4\n",
      "the no are  5\n"
     ]
    }
   ],
   "source": [
    "for i in range (1, 6):\n",
    "    print (\"the no are \",i)"
   ]
  },
  {
   "cell_type": "code",
   "execution_count": null,
   "id": "a8e64f4c",
   "metadata": {},
   "outputs": [],
   "source": []
  }
 ],
 "metadata": {
  "kernelspec": {
   "display_name": "Python 3",
   "language": "python",
   "name": "python3"
  },
  "language_info": {
   "codemirror_mode": {
    "name": "ipython",
    "version": 3
   },
   "file_extension": ".py",
   "mimetype": "text/x-python",
   "name": "python",
   "nbconvert_exporter": "python",
   "pygments_lexer": "ipython3",
   "version": "3.13.5"
  }
 },
 "nbformat": 4,
 "nbformat_minor": 5
}
